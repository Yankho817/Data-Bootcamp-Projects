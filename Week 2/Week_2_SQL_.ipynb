{
  "nbformat": 4,
  "nbformat_minor": 0,
  "metadata": {
    "colab": {
      "provenance": []
    },
    "kernelspec": {
      "name": "python3",
      "display_name": "Python 3"
    },
    "language_info": {
      "name": "python"
    }
  },
  "cells": [
    {
      "cell_type": "markdown",
      "source": [
        "[15 days of learning SQL Challenge on Hackerrank](https://www.hackerrank.com/challenges/15-days-of-learning-sql/problem)\n",
        "\n",
        "**Week 2 SQL Problem Hackerrank**\n",
        "\n",
        "Julia conducted a 15 days of learning SQL contest. The start date of the contest was March 01, 2016 and the end date was March 15, 2016. \n",
        "\n",
        "days of learning SQL contest. The start date of the contest was March 01, 2016 and the end date was March 15, 2016.\n",
        "\n",
        "Write a query to print total number of unique hackers who made at least 1\n",
        "submission each day (starting on the first day of the contest), and find the hacker_id and name of the hacker who made maximum number of submissions each day. If more than one such hacker has a maximum number of submissions, print the lowest hacker_id. The query should print this information for each day of the contest, sorted by the date. \n",
        "\n",
        "\n",
        "\n"
      ],
      "metadata": {
        "id": "1k2MKD_P4X4Z"
      }
    },
    {
      "cell_type": "code",
      "source": [
        "query = \"\"\"\n",
        "select y.submission_date,\n",
        "    (select count(hc.hacker_id) from (\n",
        "    select hacker_id,count(distinct submission_date) as subs from submissions \n",
        "    where submission_date<=y.submission_date\n",
        "    group by hacker_id\n",
        "    having count(distinct submission_date)=day(y.submission_date)) as hc),\n",
        "(select top 1 si.hacker_id from submissions si where si.submission_date=y.submission_date group by si.hacker_id order by count(*) desc,si.hacker_id),\n",
        "(select top 1 h.name from submissions si join hackers h on h.hacker_id=si.hacker_id where si.submission_date=y.submission_date group by si.hacker_id,h.name order by count(*) desc,si.hacker_id) \n",
        "from submissions y\n",
        "group by y.submission_date\n",
        "order by y.submission_date\n",
        "\"\"\""
      ],
      "metadata": {
        "id": "G23KorHq4SvX"
      },
      "execution_count": null,
      "outputs": []
    }
  ]
}